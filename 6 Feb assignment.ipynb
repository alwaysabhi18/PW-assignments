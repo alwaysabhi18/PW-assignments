{
 "cells": [
  {
   "cell_type": "code",
   "execution_count": null,
   "id": "36e8bcfa-1de2-4088-b7f4-8ee8781dc18d",
   "metadata": {},
   "outputs": [],
   "source": [
    "#Ans 2:\n",
    "def encryption(text):\n",
    "    encryption_sentence=\"\"\n",
    "    for char in text:\n",
    "        if char.isalpha():\n",
    "            char_message=chr(ord(\"z\")-(ord(char.lower())-ord(\"a\"))) #encrypt lower case character\n",
    "        elif char.isspace(): #encrypt the space with $ sign\n",
    "            char_message=\"$\"\n",
    "        else:\n",
    "            char_message=char #for puntuation\n",
    "        encryption_sentence+=char_message\n",
    "    return encryption_sentence.lower()\n",
    "    \n",
    "    \n",
    "enter_message=\"I want to become a Data Scientist.\"\n",
    "encrypted_message= encryption(enter_message)\n",
    "print(encrypted_message)"
   ]
  },
  {
   "cell_type": "code",
   "execution_count": 1,
   "id": "e0a48ad3-3ece-4af2-81e9-31ec00a2c58d",
   "metadata": {},
   "outputs": [
    {
     "name": "stdout",
     "output_type": "stream",
     "text": [
      "Product of all numbers: 746826259789209600\n"
     ]
    }
   ],
   "source": [
    "# Ans1:\n",
    "def get_numeric_product(lst):\n",
    "    product = None\n",
    "    for item in lst:\n",
    "        if isinstance(item, list):\n",
    "            item_product = get_numeric_product(item)  # Recursively process nested lists\n",
    "        elif isinstance(item, dict):\n",
    "            item_product = get_numeric_product(list(item.keys()))  # Extract numeric keys from dictionary\n",
    "            item_product *= get_numeric_product(list(item.values()))  # Extract numeric values from dictionary\n",
    "        elif isinstance(item, (int, float)) and not isinstance(item, bool):\n",
    "            item_product = item  # Multiply non-boolean numeric values directly\n",
    "        else:\n",
    "            item_product = None  # Non-numeric value or boolean, set to None\n",
    "\n",
    "        if item_product is not None:\n",
    "            if product is None:\n",
    "                product = item_product\n",
    "            else:\n",
    "                product *= item_product\n",
    "\n",
    "    if product is None:\n",
    "        product = 1  # No numeric values found, set product to 1\n",
    "\n",
    "    return product\n",
    "\n",
    "# Example usage\n",
    "list1 = [1, 2, 3, 4, [44, 55, 66, True], False, (34, 56, 78, 89, 34), {1, 2, 3, 3, 2, 1},\n",
    "         {1: 34, \"key2\": [55, 67, 78, 89], 4: (45, 22, 61, 34)}, [56, 'data science'], 'Machine Learning']\n",
    "\n",
    "result = get_numeric_product(list1)\n",
    "print(\"Product of all numbers:\", result)"
   ]
  },
  {
   "cell_type": "code",
   "execution_count": null,
   "id": "6d692dcf-d4ff-4d05-a299-5211026f4bc5",
   "metadata": {},
   "outputs": [],
   "source": []
  }
 ],
 "metadata": {
  "kernelspec": {
   "display_name": "Python 3 (ipykernel)",
   "language": "python",
   "name": "python3"
  },
  "language_info": {
   "codemirror_mode": {
    "name": "ipython",
    "version": 3
   },
   "file_extension": ".py",
   "mimetype": "text/x-python",
   "name": "python",
   "nbconvert_exporter": "python",
   "pygments_lexer": "ipython3",
   "version": "3.10.8"
  }
 },
 "nbformat": 4,
 "nbformat_minor": 5
}
