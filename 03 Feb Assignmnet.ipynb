{
 "cells": [
  {
   "cell_type": "code",
   "execution_count": 22,
   "id": "d8cdb513-84d3-4511-94b6-7fab881dd0bf",
   "metadata": {},
   "outputs": [],
   "source": [
    "#Ans1: def keyword is used to create a function.\n",
    "def odd(n):\n",
    "    l=[]\n",
    "    l1=[]\n",
    "    for i in range(1,n+1):\n",
    "        l.append(i)\n",
    "    for i in l:\n",
    "        if i%2!=0:\n",
    "            l1.append(i)\n",
    "    return l1    "
   ]
  },
  {
   "cell_type": "code",
   "execution_count": 26,
   "id": "45aec097-8938-47c4-9441-cb09474c2139",
   "metadata": {},
   "outputs": [],
   "source": [
    "# Ans2: *args is used to pass a variable number of arguments to a function\n",
    "# **kwargs is used to pass a keyworded, variable-length argument list.\n",
    "# example:\n",
    "def test1(*args):\n",
    "    return(args)\n",
    "def test2(**kwargs):\n",
    "    return(kwargs)\n",
    "    "
   ]
  },
  {
   "cell_type": "code",
   "execution_count": 25,
   "id": "c3b59d0d-86a5-4c50-9a6f-9d8b1f570a22",
   "metadata": {},
   "outputs": [
    {
     "data": {
      "text/plain": [
       "('abhi', 45, 'somanathan')"
      ]
     },
     "execution_count": 25,
     "metadata": {},
     "output_type": "execute_result"
    }
   ],
   "source": [
    "test1(\"abhi\",45,\"somanathan\")"
   ]
  },
  {
   "cell_type": "code",
   "execution_count": 27,
   "id": "536d8003-8e48-4a73-9839-bdc0a1d84cb4",
   "metadata": {},
   "outputs": [
    {
     "data": {
      "text/plain": [
       "{'x': 'abhi', 'y': [45, 2, 7, 8, 9, 6], 'z': 87}"
      ]
     },
     "execution_count": 27,
     "metadata": {},
     "output_type": "execute_result"
    }
   ],
   "source": [
    "test2(x=\"abhi\",y=[45,2,7,8,9,6],z=87)"
   ]
  },
  {
   "cell_type": "code",
   "execution_count": 33,
   "id": "c38fbf8a-70b4-4ec4-8eb4-5428b7d8c943",
   "metadata": {},
   "outputs": [
    {
     "name": "stdout",
     "output_type": "stream",
     "text": [
      "2\n",
      "4\n",
      "6\n",
      "8\n",
      "10\n"
     ]
    }
   ],
   "source": [
    "\"\"\"Ans3: Iterator are those which can be iterated one by one using the loop.\n",
    "         iter() function is used to initialise the iterator and we use for loop to iterate values using iteration \"\"\"\n",
    "l1=[]\n",
    "for i in range(21):\n",
    "    if i%2==0\n",
    "s=iter(l1)\n",
    "for i in range(5):\n",
    "    print(next(s))"
   ]
  },
  {
   "cell_type": "code",
   "execution_count": 41,
   "id": "775fea28-861f-4ddd-bda9-265f014be23e",
   "metadata": {},
   "outputs": [],
   "source": [
    "\"\"\"Ans4: The generator function used to generate the value at time of execution rather than saving the whole values of list in the memory and show them at once in a sigle list.\n",
    "It saves the memory. yield is a special keyword used to help in creating a generator function\"\"\"\n",
    "def fibo(n):\n",
    "    a=0\n",
    "    b=1\n",
    "    while True:\n",
    "        yield(a)\n",
    "        c=a+b\n",
    "        a=b\n",
    "        b=c\n",
    "        "
   ]
  },
  {
   "cell_type": "code",
   "execution_count": 44,
   "id": "a2de5611-1be9-4e47-aafc-0d10cd46618a",
   "metadata": {},
   "outputs": [
    {
     "name": "stdout",
     "output_type": "stream",
     "text": [
      "0\n",
      "1\n",
      "1\n",
      "2\n",
      "3\n",
      "5\n",
      "8\n",
      "13\n",
      "21\n",
      "34\n"
     ]
    }
   ],
   "source": [
    "f=fibo(10)\n",
    "for i in range(10):\n",
    "    print(next(f))"
   ]
  },
  {
   "cell_type": "code",
   "execution_count": 53,
   "id": "3de9c343-0481-4a08-a0da-5ff4cdf06b2d",
   "metadata": {},
   "outputs": [],
   "source": [
    "# Ans5:\n",
    "def prime(n):\n",
    "    for i in range(1000):\n",
    "        if i>1:\n",
    "            for j in range(2,i):\n",
    "                if (i%j==0):\n",
    "                    break\n",
    "            else:\n",
    "                yield(i)\n",
    "            \n",
    "    "
   ]
  },
  {
   "cell_type": "code",
   "execution_count": 59,
   "id": "247838f4-98a6-4a51-9dc6-9813d34241dc",
   "metadata": {},
   "outputs": [
    {
     "name": "stdout",
     "output_type": "stream",
     "text": [
      "2\n",
      "3\n",
      "5\n",
      "7\n",
      "11\n",
      "13\n",
      "17\n",
      "19\n",
      "23\n",
      "29\n",
      "31\n",
      "37\n",
      "41\n",
      "43\n",
      "47\n",
      "53\n",
      "59\n",
      "61\n",
      "67\n",
      "71\n"
     ]
    }
   ],
   "source": [
    "p=prime(1000)\n",
    "for i in range(20):\n",
    "    print(next(p))"
   ]
  },
  {
   "cell_type": "code",
   "execution_count": 63,
   "id": "87b0d789-8171-4b30-9626-ae961a754baa",
   "metadata": {},
   "outputs": [
    {
     "name": "stdout",
     "output_type": "stream",
     "text": [
      "0\n",
      "1\n",
      "1\n",
      "2\n",
      "3\n",
      "5\n",
      "8\n",
      "13\n",
      "21\n",
      "34\n"
     ]
    }
   ],
   "source": [
    "#Ans6:\n",
    "a=0\n",
    "b=1\n",
    "count=1\n",
    "while count<=10:\n",
    "    print(a)\n",
    "    c=a+b\n",
    "    a=b\n",
    "    b=c\n",
    "    count=count+1"
   ]
  },
  {
   "cell_type": "code",
   "execution_count": 66,
   "id": "9e1eef4a-53b9-4cce-a678-48278e0fc4e3",
   "metadata": {},
   "outputs": [
    {
     "data": {
      "text/plain": [
       "['p', 'w', 's', 'k', 'i', 'l', 'l', 's']"
      ]
     },
     "execution_count": 66,
     "metadata": {},
     "output_type": "execute_result"
    }
   ],
   "source": [
    "#Ans7:\n",
    "s=\"pwskills\"\n",
    "[i for i in s]"
   ]
  },
  {
   "cell_type": "code",
   "execution_count": 78,
   "id": "92eb9821-d7ac-4d02-af02-2ca1e1d31236",
   "metadata": {},
   "outputs": [
    {
     "name": "stdin",
     "output_type": "stream",
     "text": [
      "Enter the value to be checked as Palindrome radar\n"
     ]
    },
    {
     "name": "stdout",
     "output_type": "stream",
     "text": [
      "radar  is a Palindrome\n"
     ]
    }
   ],
   "source": [
    "#Ans:8\n",
    "value=input(\"Enter the value to be checked as Palindrome\")\n",
    "rev_value=value[::-1]\n",
    "if value==rev_value:\n",
    "    print(value,\" is a Palindrome\")\n",
    "else:\n",
    "    print(value,\" is not a Palindrome\")"
   ]
  },
  {
   "cell_type": "code",
   "execution_count": 74,
   "id": "1172b2ad-4fb6-4811-90bc-84cc07edee1d",
   "metadata": {},
   "outputs": [
    {
     "data": {
      "text/plain": [
       "[1,\n",
       " 3,\n",
       " 5,\n",
       " 7,\n",
       " 9,\n",
       " 11,\n",
       " 13,\n",
       " 15,\n",
       " 17,\n",
       " 19,\n",
       " 21,\n",
       " 23,\n",
       " 25,\n",
       " 27,\n",
       " 29,\n",
       " 31,\n",
       " 33,\n",
       " 35,\n",
       " 37,\n",
       " 39,\n",
       " 41,\n",
       " 43,\n",
       " 45,\n",
       " 47,\n",
       " 49,\n",
       " 51,\n",
       " 53,\n",
       " 55,\n",
       " 57,\n",
       " 59,\n",
       " 61,\n",
       " 63,\n",
       " 65,\n",
       " 67,\n",
       " 69,\n",
       " 71,\n",
       " 73,\n",
       " 75,\n",
       " 77,\n",
       " 79,\n",
       " 81,\n",
       " 83,\n",
       " 85,\n",
       " 87,\n",
       " 89,\n",
       " 91,\n",
       " 93,\n",
       " 95,\n",
       " 97,\n",
       " 99]"
      ]
     },
     "execution_count": 74,
     "metadata": {},
     "output_type": "execute_result"
    }
   ],
   "source": [
    "#Ans9:\n",
    "l1=[i for i in range(1,101)]\n",
    "[i for i in l1 if i%2!=0]"
   ]
  },
  {
   "cell_type": "code",
   "execution_count": 73,
   "id": "19fa55da-288a-4094-872f-5f1cb40e7700",
   "metadata": {},
   "outputs": [
    {
     "data": {
      "text/plain": [
       "[1,\n",
       " 2,\n",
       " 3,\n",
       " 4,\n",
       " 5,\n",
       " 6,\n",
       " 7,\n",
       " 8,\n",
       " 9,\n",
       " 10,\n",
       " 11,\n",
       " 12,\n",
       " 13,\n",
       " 14,\n",
       " 15,\n",
       " 16,\n",
       " 17,\n",
       " 18,\n",
       " 19,\n",
       " 20,\n",
       " 21,\n",
       " 22,\n",
       " 23,\n",
       " 24,\n",
       " 25,\n",
       " 26,\n",
       " 27,\n",
       " 28,\n",
       " 29,\n",
       " 30,\n",
       " 31,\n",
       " 32,\n",
       " 33,\n",
       " 34,\n",
       " 35,\n",
       " 36,\n",
       " 37,\n",
       " 38,\n",
       " 39,\n",
       " 40,\n",
       " 41,\n",
       " 42,\n",
       " 43,\n",
       " 44,\n",
       " 45,\n",
       " 46,\n",
       " 47,\n",
       " 48,\n",
       " 49,\n",
       " 50,\n",
       " 51,\n",
       " 52,\n",
       " 53,\n",
       " 54,\n",
       " 55,\n",
       " 56,\n",
       " 57,\n",
       " 58,\n",
       " 59,\n",
       " 60,\n",
       " 61,\n",
       " 62,\n",
       " 63,\n",
       " 64,\n",
       " 65,\n",
       " 66,\n",
       " 67,\n",
       " 68,\n",
       " 69,\n",
       " 70,\n",
       " 71,\n",
       " 72,\n",
       " 73,\n",
       " 74,\n",
       " 75,\n",
       " 76,\n",
       " 77,\n",
       " 78,\n",
       " 79,\n",
       " 80,\n",
       " 81,\n",
       " 82,\n",
       " 83,\n",
       " 84,\n",
       " 85,\n",
       " 86,\n",
       " 87,\n",
       " 88,\n",
       " 89,\n",
       " 90,\n",
       " 91,\n",
       " 92,\n",
       " 93,\n",
       " 94,\n",
       " 95,\n",
       " 96,\n",
       " 97,\n",
       " 98,\n",
       " 99,\n",
       " 100]"
      ]
     },
     "execution_count": 73,
     "metadata": {},
     "output_type": "execute_result"
    }
   ],
   "source": [
    "l1"
   ]
  },
  {
   "cell_type": "code",
   "execution_count": null,
   "id": "6f20d22e-458e-4379-8440-330e98efb584",
   "metadata": {},
   "outputs": [],
   "source": []
  }
 ],
 "metadata": {
  "kernelspec": {
   "display_name": "Python 3 (ipykernel)",
   "language": "python",
   "name": "python3"
  },
  "language_info": {
   "codemirror_mode": {
    "name": "ipython",
    "version": 3
   },
   "file_extension": ".py",
   "mimetype": "text/x-python",
   "name": "python",
   "nbconvert_exporter": "python",
   "pygments_lexer": "ipython3",
   "version": "3.10.8"
  }
 },
 "nbformat": 4,
 "nbformat_minor": 5
}
