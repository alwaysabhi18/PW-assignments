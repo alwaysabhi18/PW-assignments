{
 "cells": [
  {
   "cell_type": "code",
   "execution_count": 96,
   "id": "0b5a7a3a-b6c3-49fc-8874-e575c7061af9",
   "metadata": {},
   "outputs": [],
   "source": [
    "#Ans1:\n",
    "\n",
    "\n",
    "def password_check(passw):\n",
    "    \n",
    "    \n",
    "    #check the length of password\n",
    "    lengt=len(passw)\n",
    "    for i in passw:   \n",
    "        if lengt!=10:\n",
    "            return(\"Invalid Password. Use 10 character\")\n",
    "            break\n",
    "        \n",
    "    #check the upper case\n",
    "    ucount=0        \n",
    "    for i in passw:\n",
    "        if i.isupper():\n",
    "            ucount+=1\n",
    "            if ucount>=2:\n",
    "                break \n",
    "    else:\n",
    "        return(\"Invalid password. Use atleast 2 upper case\")\n",
    "    \n",
    "    \n",
    "    #check the lower case\n",
    "    lcount=0       \n",
    "    for i in passw:\n",
    "        if i.islower():\n",
    "            lcount+=1\n",
    "            if lcount>=2:\n",
    "                break\n",
    "    else:\n",
    "        return(\"Invalid password, Use atleast 2 lower case\")\n",
    "    \n",
    "    #check the no. of digit\n",
    "    dcount=0\n",
    "    for i in passw:\n",
    "        if i.isdigit():\n",
    "            dcount+=1\n",
    "            if dcount>=1:\n",
    "                break\n",
    "    else:\n",
    "        return(\"Invalid password. Use atleast 1 number\")\n",
    "    \n",
    "    \n",
    "    #check the special character\n",
    "    s_character=\"!@#$%^&*()-_=+[]{};:'\\\"<>,.?/\"\n",
    "    scount=0\n",
    "    for i in passw:\n",
    "        if i in s_character:\n",
    "            scount+=1\n",
    "            if scount<=3:\n",
    "                break\n",
    "    else:\n",
    "        return(\"invalid password. Use atleast 3 special character\")\n",
    "\n",
    "    return(\"Valid password\")\n",
    "    \n",
    "    \n"
   ]
  },
  {
   "cell_type": "code",
   "execution_count": 98,
   "id": "b75a5eec-5536-4519-85f8-7a13c4a5eb3b",
   "metadata": {},
   "outputs": [
    {
     "name": "stdin",
     "output_type": "stream",
     "text": [
      "enter the password:  Abhi@{:\"S0\n"
     ]
    },
    {
     "name": "stdout",
     "output_type": "stream",
     "text": [
      "Valid password\n"
     ]
    }
   ],
   "source": [
    "password=input(\"enter the password: \")\n",
    "correct=password_check(password)\n",
    "print(correct)"
   ]
  },
  {
   "cell_type": "code",
   "execution_count": 3,
   "id": "48a543ad-d333-48e0-b4b6-0ba7c1618e01",
   "metadata": {},
   "outputs": [],
   "source": [
    "#Ans2:\n",
    "\n",
    "#Check if the string starts with a particular letter\n",
    "string=lambda x: \"It is valid\" if x[0]==\"a\" else \"not valid\""
   ]
  },
  {
   "cell_type": "code",
   "execution_count": 4,
   "id": "e95fbd32-9cae-46b2-97fc-c97c9d52cf9a",
   "metadata": {},
   "outputs": [
    {
     "data": {
      "text/plain": [
       "'It is valid'"
      ]
     },
     "execution_count": 4,
     "metadata": {},
     "output_type": "execute_result"
    }
   ],
   "source": [
    "string(\"abhishek\")"
   ]
  },
  {
   "cell_type": "code",
   "execution_count": 5,
   "id": "395218ec-63d8-4738-8a9b-71fe7c2ebc68",
   "metadata": {},
   "outputs": [],
   "source": [
    "#check if the string is numeric\n",
    "num=lambda x: \"Is numeric\" if x.isdigit() else \"Is not numeric\""
   ]
  },
  {
   "cell_type": "code",
   "execution_count": 6,
   "id": "4ecaee95-6f42-45f9-9762-3fef0599ac72",
   "metadata": {},
   "outputs": [
    {
     "data": {
      "text/plain": [
       "'Is numeric'"
      ]
     },
     "execution_count": 6,
     "metadata": {},
     "output_type": "execute_result"
    }
   ],
   "source": [
    "num(\"784564\")"
   ]
  },
  {
   "cell_type": "code",
   "execution_count": 42,
   "id": "33116c56-1cb8-45da-83dd-21ef2a6b3ec0",
   "metadata": {},
   "outputs": [
    {
     "name": "stdout",
     "output_type": "stream",
     "text": [
      "[('orange', 80), ('mango', 99), ('grapes', 1000)]\n"
     ]
    }
   ],
   "source": [
    "fruit=[(\"mango\",99),(\"orange\",80),(\"grapes\",1000)]\n",
    "sorted_fruits=sorted(fruit,key=lambda x: x[1])\n",
    "print(sorted_fruits)"
   ]
  },
  {
   "cell_type": "code",
   "execution_count": 38,
   "id": "f1f444a0-6049-4a7c-8193-3b6d31d47ed1",
   "metadata": {},
   "outputs": [
    {
     "data": {
      "text/plain": [
       "[1, 4, 9, 16, 25, 36, 49, 64, 81, 100]"
      ]
     },
     "execution_count": 38,
     "metadata": {},
     "output_type": "execute_result"
    }
   ],
   "source": [
    "#Find the square of numbers from 1-10\n",
    "l=[1,2,3,4,5,6,7,8,9,10]\n",
    "list(map(lambda x : x**2,l))"
   ]
  },
  {
   "cell_type": "code",
   "execution_count": 11,
   "id": "1a18f378-4910-4533-a8ab-e2d2bd473e58",
   "metadata": {},
   "outputs": [
    {
     "data": {
      "text/plain": [
       "[1.0,\n",
       " 1.2599210498948732,\n",
       " 1.4422495703074083,\n",
       " 1.5874010519681994,\n",
       " 1.7099759466766968,\n",
       " 1.8171205928321397,\n",
       " 1.912931182772389,\n",
       " 2.0,\n",
       " 2.080083823051904,\n",
       " 2.154434690031884]"
      ]
     },
     "execution_count": 11,
     "metadata": {},
     "output_type": "execute_result"
    }
   ],
   "source": [
    "# Find the cube root of numbers from 1-10\n",
    "[i**(1/3) for i in range(1,11)]"
   ]
  },
  {
   "cell_type": "code",
   "execution_count": 18,
   "id": "dea9d2fe-6609-48ef-bc3e-8a88c5d7fd60",
   "metadata": {},
   "outputs": [],
   "source": [
    "# Check if a given number is even\n",
    "\n",
    "check_even=lambda x: \"Is even\" if x%2==0 else \"not even\""
   ]
  },
  {
   "cell_type": "code",
   "execution_count": 19,
   "id": "ab337a01-ece3-4bc5-879e-5a12e87a6d7b",
   "metadata": {},
   "outputs": [
    {
     "data": {
      "text/plain": [
       "'Is even'"
      ]
     },
     "execution_count": 19,
     "metadata": {},
     "output_type": "execute_result"
    }
   ],
   "source": [
    "check_even(22)"
   ]
  },
  {
   "cell_type": "code",
   "execution_count": 36,
   "id": "03ce44db-aa5c-4fc6-b291-dff943bb48b7",
   "metadata": {},
   "outputs": [
    {
     "name": "stdout",
     "output_type": "stream",
     "text": [
      "[1, 3, 5, 7, 9]\n"
     ]
    }
   ],
   "source": [
    "# Filter odd numbers from the given list\n",
    "\n",
    "l=[1,2,3,4,5,6,7,8,9,10]\n",
    "l2=list(filter(lambda x: x%2!=0 , l))\n",
    "print(l2)"
   ]
  },
  {
   "cell_type": "code",
   "execution_count": 28,
   "id": "78849654-cb77-44fe-82aa-31a3014ce7be",
   "metadata": {},
   "outputs": [
    {
     "name": "stdout",
     "output_type": "stream",
     "text": [
      "[1, 2, 3, 4, 5, 6, 0]\n",
      "[-1, -2, -3, -4, -5]\n"
     ]
    }
   ],
   "source": [
    "# Sort a list of intergers into positive and negative integers list\n",
    "l=[1,2,3,4,5,6,-1,-2,-3,-4,-5,0]\n",
    "l1=list(filter(lambda x: x>=0,l))\n",
    "l2=list(filter(lambda x:x<0 ,l))\n",
    "print(l1)\n",
    "print(l2)"
   ]
  },
  {
   "cell_type": "code",
   "execution_count": null,
   "id": "33a4e0b4-c86d-44e8-978f-d62843176e2b",
   "metadata": {},
   "outputs": [],
   "source": []
  },
  {
   "cell_type": "code",
   "execution_count": null,
   "id": "fa7e0440-ea9a-4095-bf3f-7234cb462f46",
   "metadata": {},
   "outputs": [],
   "source": []
  }
 ],
 "metadata": {
  "kernelspec": {
   "display_name": "Python 3 (ipykernel)",
   "language": "python",
   "name": "python3"
  },
  "language_info": {
   "codemirror_mode": {
    "name": "ipython",
    "version": 3
   },
   "file_extension": ".py",
   "mimetype": "text/x-python",
   "name": "python",
   "nbconvert_exporter": "python",
   "pygments_lexer": "ipython3",
   "version": "3.10.8"
  }
 },
 "nbformat": 4,
 "nbformat_minor": 5
}
