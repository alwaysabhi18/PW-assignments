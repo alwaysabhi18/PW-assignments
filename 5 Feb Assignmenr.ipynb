{
 "cells": [
  {
   "cell_type": "markdown",
   "id": "e40eb28a-ba18-4be7-896c-eaad11a86952",
   "metadata": {},
   "source": [
    "Ans1:\n",
    "Class : It is a blueprint which is defined by the user. It is a collection of member data and member function. Each class has its own function and data.\n",
    "Example:\n",
    "class hello:\n",
    "    def func(self):\n",
    "        pass\n",
    "       \n",
    "Object: It is type of variable assign to the class from which we used to derrive function from that class.\n",
    "Example:\n",
    "obj=hello()"
   ]
  },
  {
   "cell_type": "markdown",
   "id": "6d97b472-b4af-46c9-9b10-b70244a57d80",
   "metadata": {},
   "source": [
    "Ans2: The four pillars of OOP'S are:\n",
    "   a) Inheritance\n",
    "   b) Abstraction\n",
    "   c) Encapsulation\n",
    "   d) Polymorphism"
   ]
  },
  {
   "cell_type": "markdown",
   "id": "7ec05436-c45c-45a0-9680-46d8530e15ba",
   "metadata": {},
   "source": [
    "Ans3: \"__init__()\" function is called as the constructor function. It is used to initialise the data members of a class when object of class is created.\n",
    "Example:\n",
    "class func:\n",
    "    def __init__(self,value):\n",
    "        self.value=value\n",
    "        "
   ]
  },
  {
   "cell_type": "markdown",
   "id": "bdd06ee1-d30f-4621-a9dd-4a580a70b0d4",
   "metadata": {},
   "source": [
    "Ans4: Self is used to access the attributes and methods of the class. The self parameter can be named differently according to the user ease.\n",
    "\n",
    "Example:\n",
    "class func:\n",
    "    def __init__(self,value):\n",
    "        self.value=value"
   ]
  },
  {
   "cell_type": "markdown",
   "id": "04a69887-2425-481c-8c0e-263c28904a1d",
   "metadata": {},
   "source": [
    "Ans5: Inheritance means the derived class inherit the property or attributes from the base class. Through inheritance we can inherit the function from another class. \n",
    "\n",
    "There are 5 types of inheritance:\n",
    "1) Single Inheritance\n",
    "2) Multi-level Inheritance\n",
    "3) Multiple Inheritance\n",
    "4) Hierarchical Inheritance\n",
    "5) Hybrid Inheritance"
   ]
  },
  {
   "cell_type": "markdown",
   "id": "6e6c46af-373f-4a0c-a741-203bfea82bd0",
   "metadata": {},
   "source": [
    "1) Single inheritance:\n",
    "   In the single level, derived class          inherit the properties from base class.\n",
    "   \n",
    "Example:\n",
    "\n",
    "class base:\n",
    "    def func(self):\n",
    "        return \"hello base class\"\n",
    "\n",
    "class derived(base):\n",
    "    def funccc(self):\n",
    "        pass\n",
    "        \n",
    "base_obj = derived()\n",
    "base_obj.func()       \n"
   ]
  },
  {
   "cell_type": "markdown",
   "id": "4cf54d61-e0ab-4102-8678-2179e50365ea",
   "metadata": {},
   "source": [
    "2) Multi- level Inheritance:\n",
    "In these derived class inherit the       property of base class, and then new derived class inherit the property of previous derived class.\n",
    "\n",
    "Example:\n",
    "\n",
    "class a:\n",
    "    def class1(self):\n",
    "        return \"hello class1\"\n",
    "\n",
    "class b(a):\n",
    "    def class2(self):\n",
    "        return \"hello class2\"\n",
    "        \n",
    "class c(b):\n",
    "    def class3(self):\n",
    "        pass\n",
    "   \n",
    "obj=c()\n",
    "obj.class2()\n",
    "obj.class1()"
   ]
  },
  {
   "cell_type": "markdown",
   "id": "bde7cfcc-935e-4477-a648-273c96816ff7",
   "metadata": {},
   "source": [
    "3) Multiple Inheritance:\n",
    "In multiple inheritance derived class inherit the property of more than one base class.\n",
    "\n",
    "Example:\n",
    "\n",
    "class father:\n",
    "    def classf(self):\n",
    "        return \"hello from father\"\n",
    "        \n",
    "class mother:\n",
    "    def classm(self):\n",
    "        return \"hello from mother\"\n",
    "        \n",
    "class child(father,mother):\n",
    "    def classc(self):\n",
    "        pass\n",
    "        \n",
    "objc = child()\n",
    "objc.classm()\n",
    "objc.classf()"
   ]
  },
  {
   "cell_type": "markdown",
   "id": "d90fae40-4f3b-49bd-8584-1d4c75a45d66",
   "metadata": {},
   "source": [
    "4) Hierarchical Inheritance:\n",
    "In this more than one derived class is inheriting the property of base class.\n",
    "\n",
    "Example:\n",
    "\n",
    "class base:\n",
    "    def funcb(self):\n",
    "        return \"hello from base\"\n",
    "    def funcc(self):\n",
    "        return \"hello from baseeee\"\n",
    "class derived1(base):\n",
    "    def funcd1(self):\n",
    "        pass\n",
    "        \n",
    "class derived2(base):\n",
    "    def funcd2(self):\n",
    "        pass\n",
    "\n",
    "objd1=derived1()\n",
    "objd1.funcb()\n",
    "\n",
    "objd2=derived2()\n",
    "objd2.funcc()"
   ]
  },
  {
   "cell_type": "markdown",
   "id": "e0793cc7-7768-4ac5-a1f6-a22ba61b6b5e",
   "metadata": {},
   "source": [
    "5) Hybrid Inheritance:\n",
    "In these multiple types of inheritance are present.\n",
    "\n",
    "Example:\n",
    "\n",
    "class a:\n",
    "    def func1(self):\n",
    "        return\"This is from class a\"\n",
    " \n",
    " \n",
    "class b(a):\n",
    "    def func2(self):\n",
    "        return \"This is from class b\"\n",
    " \n",
    " \n",
    "class c(a):\n",
    "    def func3(self):\n",
    "        return \"This is from class c\"\n",
    " \n",
    " \n",
    "class d(b, a):\n",
    "    def func4(self):\n",
    "        pass\n",
    " \n",
    " \n",
    "\n",
    "object = d()\n",
    "object.func1()\n",
    "object.func2()\n",
    "\n"
   ]
  }
 ],
 "metadata": {
  "kernelspec": {
   "display_name": "Python 3 (ipykernel)",
   "language": "python",
   "name": "python3"
  },
  "language_info": {
   "codemirror_mode": {
    "name": "ipython",
    "version": 3
   },
   "file_extension": ".py",
   "mimetype": "text/x-python",
   "name": "python",
   "nbconvert_exporter": "python",
   "pygments_lexer": "ipython3",
   "version": "3.10.8"
  }
 },
 "nbformat": 4,
 "nbformat_minor": 5
}
