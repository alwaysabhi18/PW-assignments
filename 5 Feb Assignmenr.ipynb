{
 "cells": [
  {
   "cell_type": "raw",
   "id": "16302e1e-4cb2-4c7b-976a-779186ef7767",
   "metadata": {},
   "source": [
    "Ans1:\n",
    "Class : It is a blueprint which is defined by the user. It is a collection of member data and member function. Each class has its own function and data.\n",
    "Example:\n",
    "class hello:\n",
    "    def func(self):\n",
    "        pass\n",
    "       \n",
    "Object: It is type of variable assign to the class from which we used to derrive function from that class.\n",
    "Example:\n",
    "obj=hello()"
   ]
  },
  {
   "cell_type": "raw",
   "id": "e622da20-17ec-45db-b189-150cd6569730",
   "metadata": {},
   "source": [
    "Ans2: The four pillars of OOP'S are:\n",
    "   a) Inheritance\n",
    "   b) Abstraction\n",
    "   c) Encapsulation\n",
    "   d) Polymorphism"
   ]
  },
  {
   "cell_type": "raw",
   "id": "e1636f8f-bbb8-416e-b1ee-99ade84b12cb",
   "metadata": {},
   "source": [
    "Ans3: \"__init__()\" function is called as the constructor function. It is used to initialise the data members of a class when object of class is created.\n",
    "Example:\n",
    "class func:\n",
    "    def __init__(self,value):\n",
    "        self.value=value\n",
    "        "
   ]
  },
  {
   "cell_type": "raw",
   "id": "77532a21-263e-4a3e-b8cc-666ba7ac17ee",
   "metadata": {},
   "source": [
    "Ans4: Self is used to access the attributes and methods of the class. The self parameter can be named differently according to the user ease.\n",
    "\n",
    "Example:\n",
    "class func:\n",
    "    def __init__(self,value):\n",
    "        self.value=value"
   ]
  },
  {
   "cell_type": "raw",
   "id": "45c4b7de-a860-4de7-a3d9-cfaad12a0a91",
   "metadata": {},
   "source": [
    "Ans5: Inheritance means the derived class inherit the property or attributes from the base class. Through inheritance we can inherit the function from another class. \n",
    "\n",
    "There are 5 types of inheritance:\n",
    "1) Single Inheritance\n",
    "2) Multi-level Inheritance\n",
    "3) Multiple Inheritance\n",
    "4) Hierarchical Inheritance\n",
    "5) Hybrid Inheritance"
   ]
  },
  {
   "cell_type": "raw",
   "id": "1b8a954a-7362-4d53-892f-1611fe6598a5",
   "metadata": {},
   "source": [
    "1) Single inheritance:\n",
    "   In the single level, derived class          inherit the properties from base class.\n",
    "   \n",
    "Example:\n",
    "\n",
    "class base:\n",
    "    def func(self):\n",
    "        return \"hello base class\"\n",
    "\n",
    "class derived(base):\n",
    "    def funccc(self):\n",
    "        pass\n",
    "        \n",
    "base_obj = derived()\n",
    "base_obj.func()       \n"
   ]
  },
  {
   "cell_type": "raw",
   "id": "65bf55bb-fda4-4c20-8afa-5e3d9141aefa",
   "metadata": {},
   "source": [
    "2) Multi- level Inheritance:\n",
    "In these derived class inherit the       property of base class, and then new derived class inherit the property of previous derived class.\n",
    "\n",
    "Example:\n",
    "\n",
    "class a:\n",
    "    def class1(self):\n",
    "        return \"hello class1\"\n",
    "\n",
    "class b(a):\n",
    "    def class2(self):\n",
    "        return \"hello class2\"\n",
    "        \n",
    "class c(b):\n",
    "    def class3(self):\n",
    "        pass\n",
    "   \n",
    "obj=c()\n",
    "obj.class2()\n",
    "obj.class1()"
   ]
  },
  {
   "cell_type": "raw",
   "id": "dbcfeecc-f24e-4903-848b-70c4bd83db8e",
   "metadata": {},
   "source": [
    "3) Multiple Inheritance:\n",
    "In multiple inheritance derived class inherit the property of more than one base class.\n",
    "\n",
    "Example:\n",
    "\n",
    "class father:\n",
    "    def classf(self):\n",
    "        return \"hello from father\"\n",
    "        \n",
    "class mother:\n",
    "    def classm(self):\n",
    "        return \"hello from mother\"\n",
    "        \n",
    "class child(father,mother):\n",
    "    def classc(self):\n",
    "        pass\n",
    "        \n",
    "objc = child()\n",
    "objc.classm()\n",
    "objc.classf()"
   ]
  },
  {
   "cell_type": "raw",
   "id": "2ff09789-3403-483a-99ad-d753e6c7af3f",
   "metadata": {},
   "source": [
    "4) Hierarchical Inheritance:\n",
    "In this more than one derived class is inheriting the property of base class.\n",
    "\n",
    "Example:\n",
    "\n",
    "class base:\n",
    "    def funcb(self):\n",
    "        return \"hello from base\"\n",
    "    def funcc(self):\n",
    "        return \"hello from baseeee\"\n",
    "class derived1(base):\n",
    "    def funcd1(self):\n",
    "        pass\n",
    "        \n",
    "class derived2(base):\n",
    "    def funcd2(self):\n",
    "        pass\n",
    "\n",
    "objd1=derived1()\n",
    "objd1.funcb()\n",
    "\n",
    "objd2=derived2()\n",
    "objd2.funcc()"
   ]
  },
  {
   "cell_type": "raw",
   "id": "90a3f522-7027-4915-81b5-994fcacf207a",
   "metadata": {},
   "source": [
    "5) Hybrid Inheritance:\n",
    "In these multiple types of inheritance are present.\n",
    "\n",
    "Example:\n",
    "\n",
    "class a:\n",
    "    def func1(self):\n",
    "        return\"This is from class a\"\n",
    " \n",
    " \n",
    "class b(a):\n",
    "    def func2(self):\n",
    "        return \"This is from class b\"\n",
    " \n",
    " \n",
    "class c(a):\n",
    "    def func3(self):\n",
    "        return \"This is from class c\"\n",
    " \n",
    " \n",
    "class d(b, a):\n",
    "    def func4(self):\n",
    "        pass\n",
    " \n",
    " \n",
    "\n",
    "object = d()\n",
    "object.func1()\n",
    "object.func2()\n",
    "\n"
   ]
  },
  {
   "cell_type": "raw",
   "id": "6183d0f6-4420-461b-9d80-4937cc1e7712",
   "metadata": {},
   "source": []
  }
 ],
 "metadata": {
  "kernelspec": {
   "display_name": "Python 3 (ipykernel)",
   "language": "python",
   "name": "python3"
  },
  "language_info": {
   "codemirror_mode": {
    "name": "ipython",
    "version": 3
   },
   "file_extension": ".py",
   "mimetype": "text/x-python",
   "name": "python",
   "nbconvert_exporter": "python",
   "pygments_lexer": "ipython3",
   "version": "3.10.8"
  }
 },
 "nbformat": 4,
 "nbformat_minor": 5
}
