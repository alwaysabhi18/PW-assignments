{
 "cells": [
  {
   "cell_type": "raw",
   "id": "1f7bef64-f769-405d-8f58-adbb54837d2b",
   "metadata": {},
   "source": [
    "Ans1:\n",
    "marks=int(input(\"enter the marks\"))\n",
    "if marks>90:\n",
    "    print(\"Your grade is = A\")\n",
    "elif marks>80 and marks<=90:\n",
    "    print(\"Your grade is = B\")\n",
    "elif marks>=60 and marks<=80:\n",
    "    print(\"Your grade is = C\")\n",
    "else:\n",
    "    print(\"Your grade is = D\")"
   ]
  },
  {
   "cell_type": "raw",
   "id": "c641c2bd-a8f1-49f4-8023-426b14bf8448",
   "metadata": {},
   "source": [
    "Ans2:\n",
    "cost=int(input(\"Enter the Cost Price\"))\n",
    "if cost>100000:\n",
    "    tax=(cost*15)/100\n",
    "    print(\"The road tax is\",tax)\n",
    "elif cost>50000 and cost<=100000:\n",
    "    tax=(cost*10)/100\n",
    "    print(\"The road tax is\",tax)\n",
    "else:\n",
    "    tax=(cost*5)/100\n",
    "    print(\"The road tax is\",tax)"
   ]
  },
  {
   "cell_type": "raw",
   "id": "fb82bc7d-0f57-4fd8-993e-c2a620db50e1",
   "metadata": {},
   "source": [
    "Ans3:\n",
    "city=input(\"Enter the City name\")\n",
    "if city==\"delhi\" or city==\"Delhi\":\n",
    "    print (\"City = \",city,\"and Monument = Red Fort\",)\n",
    "elif city==\"Agra\" or city==\"agra\":\n",
    "    print (\"City = \",city,\"and Monument = Taj Mahal\",)\n",
    "elif city==\"jaipur\" or city==\"Jaipur\":\n",
    "    print (\"City = \",city,\"and Monument = Jal Mahal\",)    \n",
    "    "
   ]
  },
  {
   "cell_type": "raw",
   "id": "d824b0a4-47f4-4358-b01e-42fccb8db9f3",
   "metadata": {},
   "source": [
    "Ans4:\n",
    "n=int(input(\"Enter any number \"))\n",
    "count=0\n",
    "while n> 10:\n",
    "    n=n/3\n",
    "    count=count+1\n",
    "print(\"Total times divided is = \",count)    \n",
    "    "
   ]
  },
  {
   "cell_type": "raw",
   "id": "8b96b39a-285d-4c8c-acae-104bbc38c973",
   "metadata": {},
   "source": [
    "Ans5: A While loop will run a code while a condition is true. It will continously execute until the condition is not true.\n",
    "\n",
    "A while loop will always first check the condition before executing the code, is the condition will satisfy then only it will enter in the loop.\n",
    "\n",
    "It is especially useful when you want to iterate over a block of code an unknown number of times or until a specific condition is met.\n",
    "\n",
    "example:\n",
    "count = 0\n",
    "\n",
    "while count < 10:\n",
    "    print(count)\n",
    "    count = count+ 1\n",
    "\n"
   ]
  },
  {
   "cell_type": "raw",
   "id": "c3a0b2a8-a429-4297-8192-9be35dd23d3a",
   "metadata": {},
   "source": [
    "Ans6: a)\n",
    "n=5\n",
    "i=0\n",
    "while i<n:\n",
    "    j=0\n",
    "    while j<n:\n",
    "        print(\"*\",end=\"\")\n",
    "        j=j+1\n",
    "    print()\n",
    "    i=i+1\n",
    "    \n",
    "b)\n",
    "n=5\n",
    "i=0\n",
    "while i<n:\n",
    "    j=0\n",
    "    while j<=i:\n",
    "        print(\"*\",end=\"\")\n",
    "        j=j+1\n",
    "    print()\n",
    "    i=i+1\n",
    "c)\n",
    "n=5\n",
    "i=0\n",
    "while i<n:\n",
    "    j=5\n",
    "    while j>i:\n",
    "        print(\"*\",end=\"\")\n",
    "        j=j-1\n",
    "    print()\n",
    "    i=i+1"
   ]
  },
  {
   "cell_type": "raw",
   "id": "028f4a05-7e4b-48a8-9bb2-e9255f0528c7",
   "metadata": {},
   "source": [
    "Ans7)\n",
    "count=10\n",
    "while count>=1:\n",
    "    print (count)\n",
    "    count=count-1\n",
    "    \n",
    "    "
   ]
  },
  {
   "cell_type": "raw",
   "id": "4994f442-47b6-45ba-b149-f348cf238d21",
   "metadata": {},
   "source": [
    "Ans8) Same as of ans 7"
   ]
  },
  {
   "cell_type": "raw",
   "id": "122a8660-f350-468f-b151-ab36e7ae89e0",
   "metadata": {},
   "source": []
  }
 ],
 "metadata": {
  "kernelspec": {
   "display_name": "Python 3 (ipykernel)",
   "language": "python",
   "name": "python3"
  },
  "language_info": {
   "codemirror_mode": {
    "name": "ipython",
    "version": 3
   },
   "file_extension": ".py",
   "mimetype": "text/x-python",
   "name": "python",
   "nbconvert_exporter": "python",
   "pygments_lexer": "ipython3",
   "version": "3.10.8"
  }
 },
 "nbformat": 4,
 "nbformat_minor": 5
}
