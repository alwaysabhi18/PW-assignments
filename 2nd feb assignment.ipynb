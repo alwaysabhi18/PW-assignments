{
 "cells": [
  {
   "cell_type": "code",
   "execution_count": null,
   "id": "f0a66214-e1d4-420e-bbf7-a3ad2fd56aef",
   "metadata": {},
   "outputs": [],
   "source": [
    "#### Ans1\n",
    "(1) FOR LOOP\n",
    "When we want to iterate over a sequence of values.\n",
    "When we know the number of iterations beforehand.\n",
    "When we want to perform a specific action for each element in a list, tuple, or string\n",
    "for eg:\n",
    "num =[5,8,7,5,6]\n",
    "\n",
    "for i in num:\n",
    "    print(i)\n",
    "(2) WHILE LOOP\n",
    "When we do not know the number of iterations beforehand.\n",
    "When we want to continue iterating until a certain condition is met.\n",
    "for eg:\n",
    "a=0\n",
    "i=1\n",
    "while i<=10:\n",
    "    a=a+10\n",
    "    i=i+1\n",
    "print(a)\n",
    "    "
   ]
  },
  {
   "cell_type": "code",
   "execution_count": 7,
   "id": "3c18a681-b125-402b-b4d6-55386c131135",
   "metadata": {},
   "outputs": [
    {
     "name": "stdout",
     "output_type": "stream",
     "text": [
      "55\n",
      "3628800\n",
      "55\n",
      "3628800\n"
     ]
    }
   ],
   "source": [
    "# ANS2:\n",
    "s=0\n",
    "p=1\n",
    "for i in range(1,11):\n",
    "    s=s+i\n",
    "    p=p*i\n",
    "    i=i+1\n",
    "print(s)\n",
    "print(p)\n",
    "s=0\n",
    "p=1\n",
    "i=1\n",
    "while i<=10:\n",
    "    s=s+i\n",
    "    p=p*i\n",
    "    i=i+1\n",
    "print(s)\n",
    "print(p)\n"
   ]
  },
  {
   "cell_type": "code",
   "execution_count": null,
   "id": "c6d1e3c4-81b1-46fd-a3bd-2b1a89b64ffa",
   "metadata": {},
   "outputs": [],
   "source": [
    "\n",
    "\n",
    "    \n",
    "    "
   ]
  },
  {
   "cell_type": "code",
   "execution_count": 8,
   "id": "7ca041f0-1298-4a95-a764-1089bb80c251",
   "metadata": {},
   "outputs": [
    {
     "name": "stdin",
     "output_type": "stream",
     "text": [
      "enter the unit =  310\n"
     ]
    },
    {
     "name": "stdout",
     "output_type": "stream",
     "text": [
      "The bill of your house is  2250.0\n"
     ]
    }
   ],
   "source": [
    "#Ans 3\n",
    "unit=int(input(\"enter the unit = \"))\n",
    "if unit<=100:\n",
    "         bill=unit*4.5\n",
    "elif unit<=200:\n",
    "         bill=100*4.5 + (unit-100)*6\n",
    "elif unit<=300:\n",
    "         bill = 100*4.5+ 100*6+ (unit-200)*10\n",
    "else:\n",
    "         bill= 100*4.5 +100*6 +100*10 +(unit-300)*20\n",
    "print(\"The bill of your house is \",bill)  "
   ]
  },
  {
   "cell_type": "code",
   "execution_count": 2,
   "id": "b8908a96-d8fc-4883-8ddb-72c50b1c714b",
   "metadata": {},
   "outputs": [
    {
     "name": "stdout",
     "output_type": "stream",
     "text": [
      "[1, 2, 3, 4, 5, 6, 7, 8, 9, 10, 11, 12, 13, 14, 15, 16, 17, 18, 19, 20, 21, 22, 23, 24, 25, 26, 27, 28, 29, 30, 31, 32, 33, 34, 35, 36, 37, 38, 39, 40, 41, 42, 43, 44, 45, 46, 47, 48, 49, 50, 51, 52, 53, 54, 55, 56, 57, 58, 59, 60, 61, 62, 63, 64, 65, 66, 67, 68, 69, 70, 71, 72, 73, 74, 75, 76, 77, 78, 79, 80, 81, 82, 83, 84, 85, 86, 87, 88, 89, 90, 91, 92, 93, 94, 95, 96, 97, 98, 99, 100]\n"
     ]
    }
   ],
   "source": [
    "# Ans 4\n",
    "l1=[]\n",
    "for i in range(1,101):\n",
    "    l1.append(i)\n",
    "print(l1)\n",
    "   \n",
    "\n"
   ]
  },
  {
   "cell_type": "code",
   "execution_count": 9,
   "id": "9e713cd9-8469-4de5-8aaa-a57045f13acb",
   "metadata": {},
   "outputs": [
    {
     "name": "stdout",
     "output_type": "stream",
     "text": [
      "using for loop [2, 4, 5, 6, 8, 10, 12, 14, 15, 16, 18, 20, 22, 24, 25, 26, 28, 30, 32, 34, 35, 36, 38, 40, 42, 44, 45, 46, 48, 50, 52, 54, 55, 56, 58, 60, 62, 64, 65, 66, 68, 70, 72, 74, 75, 76, 78, 80, 82, 84, 85, 86, 88, 90, 92, 94, 95, 96, 98, 100]\n",
      "using while loop [2, 4, 5, 6, 8, 10, 12, 14, 15, 16, 18, 20, 22, 24, 25, 26, 28, 30, 32, 34, 35, 36, 38, 40, 42, 44, 45, 46, 48, 50, 52, 54, 55, 56, 58, 60, 62, 64, 65, 66, 68, 70, 72, 74, 75, 76, 78, 80, 82, 84, 85, 86, 88, 90, 92, 94, 95, 96, 98, 100]\n"
     ]
    }
   ],
   "source": [
    "#Ans 4 FOR LOOP\n",
    "l2=[]\n",
    "for i in l1:\n",
    "    if (i**3)%4==0 or (i**3)%5 ==0:\n",
    "        l2.append(i)\n",
    "print(\"using for loop\",l2)\n",
    "# WHILE LOOP\n",
    "i=1\n",
    "l2=[]\n",
    "while i<=100:\n",
    "    if (i**3)%4==0 or (i**3)%5 ==0:\n",
    "        l2.append(i)\n",
    "    i=i+1      \n",
    "\n",
    "print(\"using while loop\",l2)        \n",
    "    \n",
    "    \n",
    "    "
   ]
  },
  {
   "cell_type": "code",
   "execution_count": 3,
   "id": "aa9c549e-61d8-4875-8a1f-157ab1670204",
   "metadata": {},
   "outputs": [
    {
     "name": "stdout",
     "output_type": "stream",
     "text": [
      "the no of vowels are 12\n"
     ]
    }
   ],
   "source": [
    "# Ans 5\n",
    "string = \"I want to become a data scientist\"\n",
    "string=string.lower()\n",
    "vowels=[\"a\",\"e\",\"i\",\"o\",\"u\"]\n",
    "c=0\n",
    "for i in string:\n",
    "    if i in vowels: \n",
    "        c=c+1\n",
    "print(\"the no of vowels are\",c)        \n",
    "    \n"
   ]
  },
  {
   "cell_type": "code",
   "execution_count": null,
   "id": "ab7db6a8-c3ab-47e0-a7f1-5c281c9bcbbf",
   "metadata": {},
   "outputs": [],
   "source": []
  },
  {
   "cell_type": "code",
   "execution_count": null,
   "id": "7357260b-b6c5-4e18-9fcb-f0e7a108c4d0",
   "metadata": {},
   "outputs": [],
   "source": []
  }
 ],
 "metadata": {
  "kernelspec": {
   "display_name": "Python 3 (ipykernel)",
   "language": "python",
   "name": "python3"
  },
  "language_info": {
   "codemirror_mode": {
    "name": "ipython",
    "version": 3
   },
   "file_extension": ".py",
   "mimetype": "text/x-python",
   "name": "python",
   "nbconvert_exporter": "python",
   "pygments_lexer": "ipython3",
   "version": "3.10.8"
  }
 },
 "nbformat": 4,
 "nbformat_minor": 5
}
