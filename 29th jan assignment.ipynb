{
 "cells": [
  {
   "cell_type": "markdown",
   "id": "eee655e1-1232-4491-ac6c-8c98d3b5b3b4",
   "metadata": {},
   "source": [
    "Ans1: Guido Van Rossum developed python programming language"
   ]
  },
  {
   "cell_type": "markdown",
   "id": "a5f566b1-372d-469e-a1c5-c265a83002ef",
   "metadata": {},
   "source": [
    "Ans2: Python supports multiple programming paradigmns:\n",
    "1. Procedural programming \n",
    "2. Object-oriented programming \n",
    "3. Functional programming \n",
    "4. Scripting\n",
    "5. Imperative Programming\n",
    "6. Metaprogramming"
   ]
  },
  {
   "cell_type": "markdown",
   "id": "ce070b2d-3fd2-4826-a75e-41209e7b5794",
   "metadata": {},
   "source": [
    "Ans3: Yes, Python is case sensitive while dealing with identifiers."
   ]
  },
  {
   "cell_type": "markdown",
   "id": "8d22493a-31ed-4417-9475-3b4d38c3da2c",
   "metadata": {},
   "source": [
    "Ans4: The correct extension of python file is \".py\" for eg: \"abhi.py\""
   ]
  },
  {
   "cell_type": "markdown",
   "id": "ab8de4cc-8471-4827-8a45-b3504b8f9a3c",
   "metadata": {},
   "source": [
    "Ans5: Python is a interpreted programming language"
   ]
  },
  {
   "cell_type": "raw",
   "id": "279952d5-ac19-49d9-97e6-618f4b3340a6",
   "metadata": {},
   "source": [
    "\"\"\"Ans6: l1=[4,5,6,2,3,4]\n",
    "         for i in l1:\n",
    "             print(i)\"\"\""
   ]
  },
  {
   "cell_type": "markdown",
   "id": "dd98c62b-13bf-4a1f-a29b-4d0e21381114",
   "metadata": {},
   "source": [
    "Ans7: \"#\" is used to give single line comments "
   ]
  },
  {
   "cell_type": "raw",
   "id": "276d37af-b2d4-4361-b9c2-729b9eacfb43",
   "metadata": {},
   "source": [
    "Ans8: import sys\n",
    "\n",
    "      print(\"Python version:\", sys.version)\n"
   ]
  },
  {
   "cell_type": "markdown",
   "id": "2a2b6409-92c8-4ee6-870f-8e0007d72a10",
   "metadata": {},
   "source": [
    "Ans9: The \"lambda function\" or \"lambda expression\" is used to create anonymous function at run time."
   ]
  },
  {
   "cell_type": "markdown",
   "id": "ad885aed-dce0-41b3-a0b1-3fb246b9c430",
   "metadata": {},
   "source": [
    "Ans10: PIP stands for pip install packets.\n",
    "It is used to install, manage and uninstall packages written in Python"
   ]
  },
  {
   "cell_type": "raw",
   "id": "3845d110-a0b6-4463-bf03-31be13701774",
   "metadata": {},
   "source": [
    "Ans11: 1.print()\n",
    "       2.len()\n",
    "       3.input()\n",
    "       4.type()\n",
    "       5.range()"
   ]
  },
  {
   "cell_type": "markdown",
   "id": "635fd624-dbf0-4048-862c-fa1a098ae96f",
   "metadata": {},
   "source": [
    "Ans12: The default is 31 characters. This is also the minimum length you can specify. The maximum is 256 characters."
   ]
  },
  {
   "cell_type": "raw",
   "id": "0c82b0bd-086b-422b-91d0-769eeb582c85",
   "metadata": {},
   "source": [
    "Ans13: 1.Readability and Simplicity\n",
    "       2.Cross-platform\n",
    "       3.Vast library\n",
    "       4.Integration capabilities\n",
    "       5.Scalability and Performance"
   ]
  },
  {
   "cell_type": "raw",
   "id": "d56f2943-d0ea-4331-966d-3d576211f5ba",
   "metadata": {},
   "source": [
    "Ans14: Memory is organized automatically through a mechanism called \"garbage collection\".\n",
    "       key points:\n",
    "       1.Dynamic memory allocations \n",
    "       2.Reference Counting\n",
    "       3.Garbage collection\n",
    "       4.Circular reference detection\n",
    "       5.Memory optimization "
   ]
  },
  {
   "cell_type": "raw",
   "id": "93571b7c-3720-4d1c-9eef-9b988df5a406",
   "metadata": {},
   "source": [
    "Ans15. To install Python on Windows and set the path variable, you can follow these steps:\n",
    "\n",
    "1.Download Python: Visit the official Python website at https://www.python.org/downloads/ and download the latest version of Python for Windows. Choose the appropriate installer based on your system architecture (32-bit or 64-bit).\n",
    "2.Run the Installer: Locate the downloaded Python installer and run it. Make sure to check the box that says \"Add Python to PATH\" during the installation process. This will automatically set the path variable for you.\n",
    "\n",
    "3.Verify the Installation: Open a command prompt and type python --version. This should display the installed Python version, confirming that the installation was successful.\n",
    "\n",
    "Setting the path variable :\n",
    "1.Open the Start menu and search for \"Environment Variables\" and open the \"Edit the system environment variables\" option.\n",
    "\n",
    "2.In the System Properties window, click on the \"Environment Variables\" button.\n",
    "\n",
    "3.In the \"System variables\" section, scroll down and select the \"Path\" variable, then click on the \"Edit\" button.\n",
    "\n",
    "4.In the Edit Environment Variable window, click on the \"New\" button and add the path to your Python installation. The default path is usually C:\\PythonXX\\ (where XX represents the version number).\n",
    "\n",
    "5.Click \"OK\" to save the changes.\n",
    "\n",
    "\n",
    "\n",
    "\n",
    "\n"
   ]
  },
  {
   "cell_type": "markdown",
   "id": "7941ab89-29f9-4d4c-b73a-e8b2535f818f",
   "metadata": {},
   "source": [
    "Ans16: Yes, Identation is required in python."
   ]
  },
  {
   "cell_type": "code",
   "execution_count": null,
   "id": "b855a01e-be21-4a59-a7b0-ce53f33b64ad",
   "metadata": {},
   "outputs": [],
   "source": []
  }
 ],
 "metadata": {
  "kernelspec": {
   "display_name": "Python 3 (ipykernel)",
   "language": "python",
   "name": "python3"
  },
  "language_info": {
   "codemirror_mode": {
    "name": "ipython",
    "version": 3
   },
   "file_extension": ".py",
   "mimetype": "text/x-python",
   "name": "python",
   "nbconvert_exporter": "python",
   "pygments_lexer": "ipython3",
   "version": "3.10.8"
  }
 },
 "nbformat": 4,
 "nbformat_minor": 5
}
