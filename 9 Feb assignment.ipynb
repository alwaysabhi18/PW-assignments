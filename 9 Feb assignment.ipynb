{
 "cells": [
  {
   "cell_type": "code",
   "execution_count": 47,
   "id": "56faedd0-c783-46ee-800a-9617d35dbae3",
   "metadata": {},
   "outputs": [],
   "source": [
    "#Ans1:\n",
    "    \n",
    "class vehicle:\n",
    "    def __init__(self,name_of_vehicle,max_speed,average_of_vehicle):\n",
    "        self.name_of_vehicle=name_of_vehicle\n",
    "        self.max_speed=max_speed\n",
    "        self.average_of_vehicle=average_of_vehicle"
   ]
  },
  {
   "cell_type": "code",
   "execution_count": 65,
   "id": "dc2986f4-c688-4006-b5d9-d555887e01b2",
   "metadata": {},
   "outputs": [
    {
     "data": {
      "text/plain": [
       "('Audi', 5)"
      ]
     },
     "execution_count": 65,
     "metadata": {},
     "output_type": "execute_result"
    }
   ],
   "source": [
    "#Ans2:\n",
    "\n",
    "class car(vehicle):\n",
    "    def seating_capacity(self,seating_capacity):\n",
    "        self.seating_capacity=seating_capacity\n",
    "        return self.name_of_vehicle , self.seating_capacity\n",
    "    \n",
    "car1= car(\"Audi\",350,80)\n",
    "car1.seating_capacity(5)"
   ]
  },
  {
   "cell_type": "code",
   "execution_count": 66,
   "id": "5068d3a1-21c6-4eaf-9a52-dc4436b2f6e2",
   "metadata": {},
   "outputs": [
    {
     "data": {
      "text/plain": [
       "'hello from father'"
      ]
     },
     "execution_count": 66,
     "metadata": {},
     "output_type": "execute_result"
    }
   ],
   "source": [
    "\"\"\"Ans3: Multiple Inheritance:\n",
    "In multiple inheritance derived class inherit the property from more than one base class.\n",
    "\n",
    "Example:\"\"\"\n",
    "\n",
    "class father:\n",
    "    def classf(self):\n",
    "        return \"hello from father\"\n",
    "        \n",
    "class mother:\n",
    "    def classm(self):\n",
    "        return \"hello from mother\"\n",
    "        \n",
    "class child(father,mother):\n",
    "    def classc(self):\n",
    "        pass\n",
    "        \n",
    "objc = child()\n",
    "objc.classm()\n",
    "objc.classf()"
   ]
  },
  {
   "cell_type": "code",
   "execution_count": 72,
   "id": "d9bc8272-102c-4714-82b7-817de8b451c4",
   "metadata": {},
   "outputs": [],
   "source": [
    "\"\"\"Ans4: Getter and Setter are the methods by which we can accees and modify the values of class attributes and properties.\n",
    "\n",
    "Example:\"\"\"\n",
    "    \n",
    "class human:\n",
    "    def __init__(self,name):\n",
    "        self.__name=name\n",
    "        \n",
    "    def get_name(self):\n",
    "        return self.__name\n",
    "    \n",
    "    def set_name(self,new_name):\n",
    "        self.__name=new_name\n",
    "        \n",
    "        "
   ]
  },
  {
   "cell_type": "code",
   "execution_count": 73,
   "id": "520dbc58-8661-49cd-b616-d4981af983a6",
   "metadata": {},
   "outputs": [],
   "source": [
    "human1=human(\"Abhi\")"
   ]
  },
  {
   "cell_type": "code",
   "execution_count": 74,
   "id": "77729676-609a-467d-b451-199531ee7b7c",
   "metadata": {},
   "outputs": [
    {
     "data": {
      "text/plain": [
       "'Abhi'"
      ]
     },
     "execution_count": 74,
     "metadata": {},
     "output_type": "execute_result"
    }
   ],
   "source": [
    "human1.get_name()"
   ]
  },
  {
   "cell_type": "code",
   "execution_count": 75,
   "id": "0ef3e705-8c60-4b2a-99c7-a782970fa7b1",
   "metadata": {},
   "outputs": [],
   "source": [
    "human1.set_name(\"Abhishek\")"
   ]
  },
  {
   "cell_type": "code",
   "execution_count": 76,
   "id": "7d72df5a-16fd-4123-bfd5-e6cada656242",
   "metadata": {},
   "outputs": [
    {
     "data": {
      "text/plain": [
       "'Abhishek'"
      ]
     },
     "execution_count": 76,
     "metadata": {},
     "output_type": "execute_result"
    }
   ],
   "source": [
    "human1.get_name()"
   ]
  },
  {
   "cell_type": "code",
   "execution_count": 79,
   "id": "eac6bba3-7c97-4e84-aeb2-2054863c2581",
   "metadata": {},
   "outputs": [],
   "source": [
    "#Ans5: Method overriding occurs when a method or function is defined in sublass is same as the method define in parent class.\n",
    "\n",
    "class father:\n",
    "    def greetings(self):\n",
    "        return \"Hello from father\"\n",
    "    \n",
    "class mother(father):\n",
    "    def greetings(self):\n",
    "        return \"Hello from mother\""
   ]
  },
  {
   "cell_type": "code",
   "execution_count": 80,
   "id": "f8bd1780-7956-4a1b-9dda-726aa596918d",
   "metadata": {},
   "outputs": [],
   "source": [
    "greet=mother()"
   ]
  },
  {
   "cell_type": "code",
   "execution_count": 82,
   "id": "92e15045-af32-4c7b-a270-eabc56a9c3d4",
   "metadata": {},
   "outputs": [
    {
     "data": {
      "text/plain": [
       "'Hello from mother'"
      ]
     },
     "execution_count": 82,
     "metadata": {},
     "output_type": "execute_result"
    }
   ],
   "source": [
    "greet.greetings()"
   ]
  },
  {
   "cell_type": "code",
   "execution_count": null,
   "id": "73a64fb4-73df-4dd2-bb5a-e32748123d19",
   "metadata": {},
   "outputs": [],
   "source": []
  }
 ],
 "metadata": {
  "kernelspec": {
   "display_name": "Python 3 (ipykernel)",
   "language": "python",
   "name": "python3"
  },
  "language_info": {
   "codemirror_mode": {
    "name": "ipython",
    "version": 3
   },
   "file_extension": ".py",
   "mimetype": "text/x-python",
   "name": "python",
   "nbconvert_exporter": "python",
   "pygments_lexer": "ipython3",
   "version": "3.10.8"
  }
 },
 "nbformat": 4,
 "nbformat_minor": 5
}
