{
 "cells": [
  {
   "cell_type": "raw",
   "id": "c9159b79-421f-488b-9c48-143fe7382c08",
   "metadata": {},
   "source": [
    "Ans1: Abstract class is a blue print for other classes. It helps us to set of methods that must be created within any child classes built from abstract class.\n",
    "\n",
    "\n",
    "Example:\n",
    "\n",
    "import abc\n",
    "class abst:\n",
    "    @abc.abstractmethod\n",
    "    def name(self):\n",
    "        pass\n",
    "    \n",
    "    @abc.abstractmethod\n",
    "    def rate(self):\n",
    "        pass\n",
    "    \n",
    "class medical(abst):\n",
    "    def name(self):\n",
    "        return \"PCM\"\n",
    "    def rate(self):\n",
    "        return 20\n",
    "\n",
    "details=medical()\n",
    "details.name()\n",
    "    "
   ]
  },
  {
   "cell_type": "raw",
   "id": "7f5cb86e-b836-46da-817f-9e394ebda4ae",
   "metadata": {},
   "source": [
    "Ans2: Abstraction hides the implementation details  but provide  only the functionality information, we can only know what the function will work but don't know how it will work.\n",
    "while, Encapsulation hides the code and data into single entity so that the data can be protected from the outside world.\n",
    "\n",
    "Example:\n",
    "Encapsulation:\n",
    "class car:\n",
    "    def __init__(self,cost):\n",
    "        self.__cost=cost\n",
    "    def service(self,rate):\n",
    "        self.__cost+=rate\n",
    "    def washing(self,price):\n",
    "        self.__cost+=price\n",
    "    def total(self):\n",
    "        return self.__cost   \n",
    "\n",
    "car1=car(500)\n",
    "car1.washing(200)\n",
    "car1.service(300)\n",
    "car1.total()\n",
    "\n",
    "Example: Abstraction\n",
    "\n",
    "import abc\n",
    "class abst:\n",
    "    @abc.abstractmethod\n",
    "    def name(self):\n",
    "        pass\n",
    "    \n",
    "    @abc.abstractmethod\n",
    "    def rate(self):\n",
    "        pass\n",
    "    \n",
    "class medical(abst):\n",
    "    def name(self):\n",
    "        return \"PCM\"\n",
    "    def rate(self):\n",
    "        return 20\n",
    "\n",
    "details=medical()\n",
    "details.name()\n",
    "    \n"
   ]
  },
  {
   "cell_type": "raw",
   "id": "6ea97674-6ffe-4095-a234-76386afc686a",
   "metadata": {},
   "source": [
    "Ans3: abc module used for defining the abstract classes.\n",
    "To use it, we have to import abc then use @abc.abstractmethod above that class we want to abstract\n"
   ]
  },
  {
   "cell_type": "raw",
   "id": "dd02a4e2-2828-4006-8b14-6eed880c7345",
   "metadata": {},
   "source": [
    "Ans4: We can achieve data abstraction by creating abstract class.\n",
    "First we have to import abc module then just above the function write @abc.abstractmethod() for making the blue print\n",
    "Example:\n",
    "import abc\n",
    "class abst:\n",
    "    @abc.abstractmethod\n",
    "    def name(self):\n",
    "        pass\n",
    "    \n",
    "    @abc.abstractmethod\n",
    "    def rate(self):\n",
    "        pass\n",
    "    \n",
    "class medical(abst):\n",
    "    def name(self):\n",
    "        return \"PCM\"\n",
    "    def rate(self):\n",
    "        return 20\n",
    "\n",
    "details=medical()\n",
    "details.name()\n",
    "    \n"
   ]
  },
  {
   "cell_type": "code",
   "execution_count": null,
   "id": "f5238d60-1676-4454-83f1-c3d98c629f1c",
   "metadata": {},
   "outputs": [],
   "source": []
  },
  {
   "cell_type": "code",
   "execution_count": null,
   "id": "8a17686b-a721-4e72-8d62-33233a2d5abe",
   "metadata": {},
   "outputs": [],
   "source": []
  },
  {
   "cell_type": "code",
   "execution_count": null,
   "id": "7eaa60e2-e800-48f2-ba65-ce8df9a9aa86",
   "metadata": {},
   "outputs": [],
   "source": []
  }
 ],
 "metadata": {
  "kernelspec": {
   "display_name": "Python 3 (ipykernel)",
   "language": "python",
   "name": "python3"
  },
  "language_info": {
   "codemirror_mode": {
    "name": "ipython",
    "version": 3
   },
   "file_extension": ".py",
   "mimetype": "text/x-python",
   "name": "python",
   "nbconvert_exporter": "python",
   "pygments_lexer": "ipython3",
   "version": "3.10.8"
  }
 },
 "nbformat": 4,
 "nbformat_minor": 5
}
