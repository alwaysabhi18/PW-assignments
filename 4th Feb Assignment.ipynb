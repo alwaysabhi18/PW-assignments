{
 "cells": [
  {
   "cell_type": "code",
   "execution_count": 40,
   "id": "9dfcbc0a-e577-40a9-8f3b-1fcf109081c5",
   "metadata": {},
   "outputs": [],
   "source": [
    "#Ans1\n",
    "l=[('Sachin Tendulkar', 34357), ('Ricky Ponting', 27483), ('Jack Kallis', 25534), ('Virat Kohli', 24936)]\n",
    "l.sort(key=lambda y:y[1])\n",
    "print()"
   ]
  },
  {
   "cell_type": "code",
   "execution_count": 14,
   "id": "587b70d0-4fdf-4b86-bf18-2d5b6a59bc2a",
   "metadata": {},
   "outputs": [
    {
     "name": "stdout",
     "output_type": "stream",
     "text": [
      "[1, 2, 3, 4, 5, 6, 7, 8, 9, 10]\n"
     ]
    },
    {
     "data": {
      "text/plain": [
       "[1, 4, 9, 16, 25, 36, 49, 64, 81, 100]"
      ]
     },
     "execution_count": 14,
     "metadata": {},
     "output_type": "execute_result"
    }
   ],
   "source": [
    "#Ans2:\n",
    "l1=[]\n",
    "for i in range(1,11):\n",
    "    l1.append(i)\n",
    "print(l1)\n",
    "sq=lambda a:a**2\n",
    "list(map(sq,l1))"
   ]
  },
  {
   "cell_type": "code",
   "execution_count": 18,
   "id": "dbaf16b0-10b1-4471-8b00-9cb41c2f713b",
   "metadata": {},
   "outputs": [
    {
     "name": "stdout",
     "output_type": "stream",
     "text": [
      "[1, 2, 3, 4, 5, 6, 7, 8, 9, 10]\n"
     ]
    },
    {
     "data": {
      "text/plain": [
       "('1', '2', '3', '4', '5', '6', '7', '8', '9', '10')"
      ]
     },
     "execution_count": 18,
     "metadata": {},
     "output_type": "execute_result"
    }
   ],
   "source": [
    "# Ans3:\n",
    "l1=[]\n",
    "for i in range(1,11):\n",
    "    l1.append(i)\n",
    "print(l1)\n",
    "\n",
    "s=lambda x: str(x)\n",
    "tuple(map(s,l1))\n"
   ]
  },
  {
   "cell_type": "code",
   "execution_count": 24,
   "id": "f14aa09c-59f3-45a6-834d-6824b620423d",
   "metadata": {},
   "outputs": [
    {
     "name": "stdout",
     "output_type": "stream",
     "text": [
      "[1, 2, 3, 4, 5, 6, 7, 8, 9, 10, 11, 12, 13, 14, 15, 16, 17, 18, 19, 20, 21, 22, 23, 24, 25]\n"
     ]
    },
    {
     "data": {
      "text/plain": [
       "15511210043330985984000000"
      ]
     },
     "execution_count": 24,
     "metadata": {},
     "output_type": "execute_result"
    }
   ],
   "source": [
    "#Ans4:\n",
    "l2=[i for i in range(1,26)]\n",
    "print(l2)\n",
    "from functools import reduce\n",
    "prod=lambda x,y:x*y\n",
    "reduce(prod,l2)"
   ]
  },
  {
   "cell_type": "code",
   "execution_count": 28,
   "id": "81b5276e-3ab3-461f-b9c3-879f2ea33135",
   "metadata": {},
   "outputs": [
    {
     "name": "stdout",
     "output_type": "stream",
     "text": [
      "Divisible by 2 [2, 6, 60, 90, 120, 46]\n",
      "Divisible by 3 [3, 6, 9, 27, 60, 90, 120]\n"
     ]
    }
   ],
   "source": [
    "#Ans5:\n",
    "l3=[2,3,6,9,27,60,90,120,55,46]\n",
    "l4=list(filter(lambda x:x%2==0,l3) )\n",
    "l5=list(filter(lambda x:x%3==0,l3))\n",
    "print(\"Divisible by 2\",l4)\n",
    "print(\"Divisible by 3\",l5)"
   ]
  },
  {
   "cell_type": "code",
   "execution_count": 34,
   "id": "b3d51ccc-ce8d-4eb5-ab27-4bda41db4a47",
   "metadata": {},
   "outputs": [
    {
     "name": "stdout",
     "output_type": "stream",
     "text": [
      "['php', 'radar', 'level']\n"
     ]
    }
   ],
   "source": [
    "#Ans6:\n",
    "s=[\"pyhton\",\"php\",\"radar\",\"level\"]\n",
    "result=list(filter(lambda x:(x==\"\".join(reversed(x))),s))\n",
    "print(result)"
   ]
  },
  {
   "cell_type": "code",
   "execution_count": null,
   "id": "47e04e64-c14c-4fef-9c4f-c3eab43d1a05",
   "metadata": {},
   "outputs": [],
   "source": []
  }
 ],
 "metadata": {
  "kernelspec": {
   "display_name": "Python 3 (ipykernel)",
   "language": "python",
   "name": "python3"
  },
  "language_info": {
   "codemirror_mode": {
    "name": "ipython",
    "version": 3
   },
   "file_extension": ".py",
   "mimetype": "text/x-python",
   "name": "python",
   "nbconvert_exporter": "python",
   "pygments_lexer": "ipython3",
   "version": "3.10.8"
  }
 },
 "nbformat": 4,
 "nbformat_minor": 5
}
